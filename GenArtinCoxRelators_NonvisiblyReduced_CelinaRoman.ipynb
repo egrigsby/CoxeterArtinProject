{
  "cells": [
    {
      "cell_type": "code",
      "execution_count": null,
      "metadata": {
        "id": "BBBGGQLoNoD2"
      },
      "outputs": [],
      "source": [
        "#Run this preamble to import some libraries that are available in google colab that are often useful.\n",
        "#Numpy is good for efficiently working with array/vector/matrix data.\n",
        "#Random is good for generating random numbers according to some (discrete or continuous) distribution\n",
        "#Matplotlib is good for plotting\n",
        "#Torch is PyTorch, which is the standard python library for creating and training ML models\n",
        "#You may need to call other libraries for your code\n",
        "\n",
        "import numpy as np\n",
        "import random\n",
        "import matplotlib.pyplot as plt\n",
        "#import torch\n",
        "\n",
        "from operator import neg  #for negating integers"
      ]
    },
    {
      "cell_type": "markdown",
      "metadata": {
        "id": "BJV-Lan4ZT4D"
      },
      "source": [
        "#Generating lists of generators and relators for Coxeter and Artin groups"
      ]
    },
    {
      "cell_type": "markdown",
      "metadata": {
        "id": "3La__XmMZOUZ"
      },
      "source": [
        "The following code should use Coxeter matrices encoded as numpy arrays to:\n",
        "\n",
        "1. Generate lists of Coxeter group generators (as nonzero integers 1 to n) and Coxeter group relators\n",
        "2. Generate lists of Artin group generators (as nonzero integers -n to n) and Artin group relators"
      ]
    },
    {
      "cell_type": "markdown",
      "metadata": {
        "id": "tNKlZHzSv4hG"
      },
      "source": [
        "## Coxeter group generation"
      ]
    },
    {
      "cell_type": "markdown",
      "metadata": {
        "id": "fdhsvMNIhc9H"
      },
      "source": [
        "Function to generate Coxeter group generators (gives a list of nonzero integers 1 through  𝑛 )"
      ]
    },
    {
      "cell_type": "code",
      "execution_count": null,
      "metadata": {
        "id": "CfcWwrTmepq4"
      },
      "outputs": [],
      "source": [
        "def cox_gen(matrix):\n",
        "  n = np.sum(matrix == 1)            #masks for 1s and sums all true values\n",
        "  generators = list(range(1,n+1))    #generates integers from 1 through n\n",
        "  return generators"
      ]
    },
    {
      "cell_type": "markdown",
      "metadata": {
        "id": "NkSfLCJkwlPE"
      },
      "source": [
        "Function to generate Coxeter group relators (currently gives a list of tuples; maybe reformat as array)"
      ]
    },
    {
      "cell_type": "code",
      "execution_count": null,
      "metadata": {
        "id": "fKGI-WAnhiIp"
      },
      "outputs": [],
      "source": [
        "def cox_rel(matrix):\n",
        "  #generate pairs to check cases where s != s'\n",
        "  generators = cox_gen(matrix)\n",
        "  pairs = [(generators[i], generators[j]) for i in range(len(generators)) for j in range(i + 1, len(generators))]\n",
        "  relators = []\n",
        "\n",
        "  #getting relators of form s^2\n",
        "  for g in generators:\n",
        "    relators.append([g,g])\n",
        "\n",
        "  #getting braid relators\n",
        "  for p in pairs:\n",
        "    m = matrix[p[0]-1,p[1]-1]       #subtracting 1 retrieves the correct row and column, eg what we call row 1 is actually indexed as row 0\n",
        "    if np.any(np.isinf(m)):         #skipping to the next pair if m(s,s') = infinity\n",
        "      continue\n",
        "    relators.append(p*(int(m)))     #otherwise, appends the pair p m times, representing the relation (ss')^m(s,s') = e\n",
        "  return relators"
      ]
    },
    {
      "cell_type": "markdown",
      "metadata": {
        "id": "7n7vujmDxT6C"
      },
      "source": [
        "## Artin group generation"
      ]
    },
    {
      "cell_type": "markdown",
      "metadata": {
        "id": "1bAGVSLPxtDE"
      },
      "source": [
        "Function to generate Artin group generators and their inverses (gives a list of nonzero integers $-n$ to $n$)"
      ]
    },
    {
      "cell_type": "code",
      "execution_count": null,
      "metadata": {
        "id": "nb7_zmVlhthC"
      },
      "outputs": [],
      "source": [
        "def artin_gen(matrix):\n",
        "  n = np.sum(matrix == 1)            #masks for 1s and sums all true values\n",
        "  generators = list(range(-n,n+1))   #generates integers from -n through n\n",
        "  generators.remove(0)\n",
        "  return generators"
      ]
    },
    {
      "cell_type": "markdown",
      "metadata": {
        "id": "xFB_ZdpMxsdW"
      },
      "source": [
        "Function to generate Artin group relators (currently gives a list of lists)"
      ]
    },
    {
      "cell_type": "code",
      "execution_count": null,
      "metadata": {
        "id": "fm7GNJFcj90K"
      },
      "outputs": [],
      "source": [
        "def artin_rel(matrix):\n",
        "  #generate pairs to check cases where s != s'\n",
        "  generators = cox_gen(matrix)\n",
        "  pairs = [(generators[i], generators[j]) for i in range(len(generators)) for j in range(i + 1, len(generators))]\n",
        "\n",
        "  relators = []\n",
        "\n",
        "  #retrieving length m from m(s,s')\n",
        "  for p in pairs:\n",
        "    m = matrix[p[0]-1,p[1]-1]\n",
        "    if np.any(np.isinf(m)):         #skipping to the next pair if m(s,s') = infinity\n",
        "      continue\n",
        "\n",
        "    #building pi(s,s',m)\n",
        "    pi = []\n",
        "\n",
        "    #alternating between s and s' for an m-length list\n",
        "    for i in range(int(m)):\n",
        "      if i % 2 == 0:\n",
        "        pi.append(p[0])     #even indices give s\n",
        "      else:\n",
        "        pi.append(p[1])     #odd indices give s'\n",
        "\n",
        "    #building pi(s',s, m) inverse\n",
        "    pi_inv = []\n",
        "    for i in range(int(m)):               #same process as above except\n",
        "      if i % 2 != 0:\n",
        "        pi_inv.append(p[0])               #even indices now give s'\n",
        "      else:\n",
        "        pi_inv.append(p[1])               #and odd indices give s\n",
        "    pi_inv = list(map(neg, pi_inv))       #flip signs to denote inverses\n",
        "\n",
        "    #combining pi and pi inverse\n",
        "    relators.append(pi + pi_inv)\n",
        "\n",
        "  return relators"
      ]
    },
    {
      "cell_type": "markdown",
      "metadata": {
        "id": "gw1TINksZGxj"
      },
      "source": [
        "#Subroutine A"
      ]
    },
    {
      "cell_type": "code",
      "execution_count": null,
      "metadata": {
        "id": "RFvZ-yk5LgSp"
      },
      "outputs": [],
      "source": [
        "SUB = str.maketrans(\"0123456789\", \"₀₁₂₃₄₅₆₇₈₉\")\n",
        "\n",
        "def reduce_coxeter_word(w):\n",
        "  reduced = True\n",
        "  while reduced:\n",
        "    reduced = False\n",
        "    i = 0\n",
        "    while i < len(w) - 1:\n",
        "      if w[i] == w[i+1]:\n",
        "        w = w[:i] + w[i+2:]\n",
        "        i = max(i-1,0)\n",
        "      else:\n",
        "        i += 1\n",
        "  return w\n",
        "\n",
        "def coxeter_word_to_string(w):\n",
        "  return \"\".join(f's{i}'.translate(SUB) for i in w)"
      ]
    },
    {
      "cell_type": "code",
      "execution_count": null,
      "metadata": {
        "id": "G4WUK6fpP-pp"
      },
      "outputs": [],
      "source": [
        "word = [0,2,2,4]\n",
        "print(\"Before reducing: \", coxeter_word_to_string(word))\n",
        "reduced = reduce_coxeter_word(word)\n",
        "print(\"After being reduced: \",coxeter_word_to_string(reduced))"
      ]
    },
    {
      "cell_type": "code",
      "execution_count": null,
      "metadata": {
        "id": "lT0UQGhCvQMp"
      },
      "outputs": [],
      "source": [
        "SUB = str.maketrans(\"0123456789\", \"₀₁₂₃₄₅₆₇₈₉\")\n",
        "\n",
        "def reduce_artin_word(w):\n",
        "  stack = []\n",
        "  for x in w:\n",
        "    if stack and stack[-1] == -x:\n",
        "      stack.pop()\n",
        "    else:\n",
        "      stack.append(x)\n",
        "  return stack\n",
        "\n",
        "def artin_word_to_string(w):\n",
        "  result = []\n",
        "  for i in w:\n",
        "    index = abs(i)\n",
        "    gen = f's{str(index).translate(SUB)}'\n",
        "    if i < 0:\n",
        "      gen += '⁻¹'\n",
        "    result.append(gen)\n",
        "  return \"\".join(result)"
      ]
    },
    {
      "cell_type": "code",
      "execution_count": null,
      "metadata": {
        "id": "HQHkixfqyR0t"
      },
      "outputs": [],
      "source": [
        "word = [0,-2,2,4]\n",
        "print(\"Before reducing: \",artin_word_to_string(word))\n",
        "reduced = reduce_artin_word(word)\n",
        "print(\"After reducing: \",artin_word_to_string(reduced))"
      ]
    }
  ],
  "metadata": {
    "colab": {
      "provenance": []
    },
    "kernelspec": {
      "display_name": "Python 3",
      "language": "python",
      "name": "python3"
    },
    "language_info": {
      "name": "python"
    }
  },
  "nbformat": 4,
  "nbformat_minor": 0
}
