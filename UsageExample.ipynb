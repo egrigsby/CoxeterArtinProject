{
 "cells": [
  {
   "cell_type": "markdown",
   "id": "313cff86",
   "metadata": {},
   "source": [
    "# Example of using the group generation functions\n",
    "\n",
    "**Note**: must restart kernel if code in CoxeterArtinGroupGeneration.py has been updated"
   ]
  },
  {
   "cell_type": "code",
   "execution_count": 1,
   "id": "d01b4489",
   "metadata": {},
   "outputs": [],
   "source": [
    "import numpy as np\n",
    "import logging\n",
    "from CoxeterArtinGroupGeneration import getTimestamp, DataGenerator, loadDataset, readDataset, plotFrequencies, setup_logging"
   ]
  },
  {
   "cell_type": "code",
   "execution_count": 2,
   "id": "a1452aba",
   "metadata": {},
   "outputs": [],
   "source": [
    "# Enable Debugging (optional)\n",
    "setup_logging(level=logging.INFO)"
   ]
  },
  {
   "cell_type": "code",
   "execution_count": 3,
   "id": "6f1c3374",
   "metadata": {},
   "outputs": [
    {
     "name": "stdout",
     "output_type": "stream",
     "text": [
      "Unique folder name for dataset:\n",
      "0 . A2_tilde . 'coxeter' . 6-22 . pad 22 . size 12,000 . split 30 70\n"
     ]
    },
    {
     "name": "stderr",
     "output_type": "stream",
     "text": [
      "[22:45:32] INFO: Word size 6  done | Time alloted 5.00| Words Generated 6\n",
      "[22:45:37] INFO: Word size 8  done | Time alloted 5.00| Words Generated 6\n",
      "[22:45:42] INFO: Word size 10 done | Time alloted 5.00| Words Generated 42\n",
      "[22:45:47] INFO: Word size 12 done | Time alloted 5.00| Words Generated 96\n",
      "[22:45:52] INFO: Word size 14 done | Time alloted 5.00| Words Generated 365\n",
      "[22:45:57] INFO: Word size 16 done | Time alloted 5.00| Words Generated 1186\n",
      "[22:46:02] INFO: Word size 18 done | Time alloted 5.00| Words Generated 3455\n",
      "[22:46:02] INFO: Word size 20 done | Time alloted 0.12| Words Generated 844\n"
     ]
    },
    {
     "name": "stdout",
     "output_type": "stream",
     "text": [
      "Training set size: 3600\n",
      "Testing set size: 8400\n"
     ]
    }
   ],
   "source": [
    "BR = \".\"    # break character\n",
    "# get timestamp (for job)\n",
    "timestamp = getTimestamp()  #format: YYYY-MM-DD\n",
    "\n",
    "coxeterMatrix = np.array([\n",
    "    [1, 3, 3],\n",
    "    [3, 1, 3],\n",
    "    [3, 3, 1],\n",
    "])\n",
    "dg = DataGenerator(coxeterMatrix, dataDir=\"datasets\", timestamp=timestamp, BR=BR)\n",
    "dg.groupName = \"A2_tilde\"\n",
    "dg.mode = 'coxeter'\n",
    "dg.timestamp = timestamp\n",
    "\n",
    "# define word length, dataset size, splits \n",
    "min_wordLen = 6\n",
    "max_wordLen =  22\n",
    "fixed_wordLen = max_wordLen\n",
    "dg.datasetSize = 6000 * 2\n",
    "dg.train_size = 0.3\n",
    "dg.setSizes(min_wordLen, max_wordLen, fixed_wordLen)\n",
    "\n",
    "# generate folder name for dataset using dataset features (updates folderPath)\n",
    "folderName = dg.generateFolderName()\n",
    "print(f\"Unique folder name for dataset:\\n{folderName}\")\n",
    "# define directory path (defined via generation or manually)\n",
    "trainDF, testDF = dg.makeDataset(userDatasetPath=folderName, random_state=1)"
   ]
  },
  {
   "cell_type": "markdown",
   "id": "620aa68c",
   "metadata": {},
   "source": [
    "# View Frequencies"
   ]
  },
  {
   "cell_type": "code",
   "execution_count": 4,
   "id": "1d96c8e1",
   "metadata": {},
   "outputs": [
    {
     "name": "stdout",
     "output_type": "stream",
     "text": [
      "Total Trivial Words: 6000\n"
     ]
    }
   ],
   "source": [
    "import os\n",
    "trivialWords = readDataset(os.path.join(dg.datasetPath, dg.trivialFile))\n",
    "nontrivialWords = readDataset(os.path.join(dg.datasetPath, dg.nonTrivialFile))\n",
    "print(\"Total Trivial Words:\", len(trivialWords))"
   ]
  },
  {
   "cell_type": "code",
   "execution_count": 7,
   "id": "9faa04e0",
   "metadata": {},
   "outputs": [
    {
     "data": {
      "application/vnd.plotly.v1+json": {
       "config": {
        "plotlyServerURL": "https://plot.ly"
       },
       "data": [
        {
         "bingroup": "x",
         "hovertemplate": "Word Length=%{x}<br>count=%{y}<extra></extra>",
         "legendgroup": "",
         "marker": {
          "color": "#636efa",
          "pattern": {
           "shape": ""
          }
         },
         "name": "",
         "nbinsx": 15,
         "orientation": "v",
         "showlegend": false,
         "type": "histogram",
         "x": {
          "bdata": "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",
          "dtype": "i1"
         },
         "xaxis": "x",
         "yaxis": "y"
        }
       ],
       "layout": {
        "bargap": 0.1,
        "barmode": "relative",
        "legend": {
         "tracegroupgap": 0
        },
        "template": {
         "data": {
          "bar": [
           {
            "error_x": {
             "color": "#2a3f5f"
            },
            "error_y": {
             "color": "#2a3f5f"
            },
            "marker": {
             "line": {
              "color": "#E5ECF6",
              "width": 0.5
             },
             "pattern": {
              "fillmode": "overlay",
              "size": 10,
              "solidity": 0.2
             }
            },
            "type": "bar"
           }
          ],
          "barpolar": [
           {
            "marker": {
             "line": {
              "color": "#E5ECF6",
              "width": 0.5
             },
             "pattern": {
              "fillmode": "overlay",
              "size": 10,
              "solidity": 0.2
             }
            },
            "type": "barpolar"
           }
          ],
          "carpet": [
           {
            "aaxis": {
             "endlinecolor": "#2a3f5f",
             "gridcolor": "white",
             "linecolor": "white",
             "minorgridcolor": "white",
             "startlinecolor": "#2a3f5f"
            },
            "baxis": {
             "endlinecolor": "#2a3f5f",
             "gridcolor": "white",
             "linecolor": "white",
             "minorgridcolor": "white",
             "startlinecolor": "#2a3f5f"
            },
            "type": "carpet"
           }
          ],
          "choropleth": [
           {
            "colorbar": {
             "outlinewidth": 0,
             "ticks": ""
            },
            "type": "choropleth"
           }
          ],
          "contour": [
           {
            "colorbar": {
             "outlinewidth": 0,
             "ticks": ""
            },
            "colorscale": [
             [
              0,
              "#0d0887"
             ],
             [
              0.1111111111111111,
              "#46039f"
             ],
             [
              0.2222222222222222,
              "#7201a8"
             ],
             [
              0.3333333333333333,
              "#9c179e"
             ],
             [
              0.4444444444444444,
              "#bd3786"
             ],
             [
              0.5555555555555556,
              "#d8576b"
             ],
             [
              0.6666666666666666,
              "#ed7953"
             ],
             [
              0.7777777777777778,
              "#fb9f3a"
             ],
             [
              0.8888888888888888,
              "#fdca26"
             ],
             [
              1,
              "#f0f921"
             ]
            ],
            "type": "contour"
           }
          ],
          "contourcarpet": [
           {
            "colorbar": {
             "outlinewidth": 0,
             "ticks": ""
            },
            "type": "contourcarpet"
           }
          ],
          "heatmap": [
           {
            "colorbar": {
             "outlinewidth": 0,
             "ticks": ""
            },
            "colorscale": [
             [
              0,
              "#0d0887"
             ],
             [
              0.1111111111111111,
              "#46039f"
             ],
             [
              0.2222222222222222,
              "#7201a8"
             ],
             [
              0.3333333333333333,
              "#9c179e"
             ],
             [
              0.4444444444444444,
              "#bd3786"
             ],
             [
              0.5555555555555556,
              "#d8576b"
             ],
             [
              0.6666666666666666,
              "#ed7953"
             ],
             [
              0.7777777777777778,
              "#fb9f3a"
             ],
             [
              0.8888888888888888,
              "#fdca26"
             ],
             [
              1,
              "#f0f921"
             ]
            ],
            "type": "heatmap"
           }
          ],
          "histogram": [
           {
            "marker": {
             "pattern": {
              "fillmode": "overlay",
              "size": 10,
              "solidity": 0.2
             }
            },
            "type": "histogram"
           }
          ],
          "histogram2d": [
           {
            "colorbar": {
             "outlinewidth": 0,
             "ticks": ""
            },
            "colorscale": [
             [
              0,
              "#0d0887"
             ],
             [
              0.1111111111111111,
              "#46039f"
             ],
             [
              0.2222222222222222,
              "#7201a8"
             ],
             [
              0.3333333333333333,
              "#9c179e"
             ],
             [
              0.4444444444444444,
              "#bd3786"
             ],
             [
              0.5555555555555556,
              "#d8576b"
             ],
             [
              0.6666666666666666,
              "#ed7953"
             ],
             [
              0.7777777777777778,
              "#fb9f3a"
             ],
             [
              0.8888888888888888,
              "#fdca26"
             ],
             [
              1,
              "#f0f921"
             ]
            ],
            "type": "histogram2d"
           }
          ],
          "histogram2dcontour": [
           {
            "colorbar": {
             "outlinewidth": 0,
             "ticks": ""
            },
            "colorscale": [
             [
              0,
              "#0d0887"
             ],
             [
              0.1111111111111111,
              "#46039f"
             ],
             [
              0.2222222222222222,
              "#7201a8"
             ],
             [
              0.3333333333333333,
              "#9c179e"
             ],
             [
              0.4444444444444444,
              "#bd3786"
             ],
             [
              0.5555555555555556,
              "#d8576b"
             ],
             [
              0.6666666666666666,
              "#ed7953"
             ],
             [
              0.7777777777777778,
              "#fb9f3a"
             ],
             [
              0.8888888888888888,
              "#fdca26"
             ],
             [
              1,
              "#f0f921"
             ]
            ],
            "type": "histogram2dcontour"
           }
          ],
          "mesh3d": [
           {
            "colorbar": {
             "outlinewidth": 0,
             "ticks": ""
            },
            "type": "mesh3d"
           }
          ],
          "parcoords": [
           {
            "line": {
             "colorbar": {
              "outlinewidth": 0,
              "ticks": ""
             }
            },
            "type": "parcoords"
           }
          ],
          "pie": [
           {
            "automargin": true,
            "type": "pie"
           }
          ],
          "scatter": [
           {
            "fillpattern": {
             "fillmode": "overlay",
             "size": 10,
             "solidity": 0.2
            },
            "type": "scatter"
           }
          ],
          "scatter3d": [
           {
            "line": {
             "colorbar": {
              "outlinewidth": 0,
              "ticks": ""
             }
            },
            "marker": {
             "colorbar": {
              "outlinewidth": 0,
              "ticks": ""
             }
            },
            "type": "scatter3d"
           }
          ],
          "scattercarpet": [
           {
            "marker": {
             "colorbar": {
              "outlinewidth": 0,
              "ticks": ""
             }
            },
            "type": "scattercarpet"
           }
          ],
          "scattergeo": [
           {
            "marker": {
             "colorbar": {
              "outlinewidth": 0,
              "ticks": ""
             }
            },
            "type": "scattergeo"
           }
          ],
          "scattergl": [
           {
            "marker": {
             "colorbar": {
              "outlinewidth": 0,
              "ticks": ""
             }
            },
            "type": "scattergl"
           }
          ],
          "scattermap": [
           {
            "marker": {
             "colorbar": {
              "outlinewidth": 0,
              "ticks": ""
             }
            },
            "type": "scattermap"
           }
          ],
          "scattermapbox": [
           {
            "marker": {
             "colorbar": {
              "outlinewidth": 0,
              "ticks": ""
             }
            },
            "type": "scattermapbox"
           }
          ],
          "scatterpolar": [
           {
            "marker": {
             "colorbar": {
              "outlinewidth": 0,
              "ticks": ""
             }
            },
            "type": "scatterpolar"
           }
          ],
          "scatterpolargl": [
           {
            "marker": {
             "colorbar": {
              "outlinewidth": 0,
              "ticks": ""
             }
            },
            "type": "scatterpolargl"
           }
          ],
          "scatterternary": [
           {
            "marker": {
             "colorbar": {
              "outlinewidth": 0,
              "ticks": ""
             }
            },
            "type": "scatterternary"
           }
          ],
          "surface": [
           {
            "colorbar": {
             "outlinewidth": 0,
             "ticks": ""
            },
            "colorscale": [
             [
              0,
              "#0d0887"
             ],
             [
              0.1111111111111111,
              "#46039f"
             ],
             [
              0.2222222222222222,
              "#7201a8"
             ],
             [
              0.3333333333333333,
              "#9c179e"
             ],
             [
              0.4444444444444444,
              "#bd3786"
             ],
             [
              0.5555555555555556,
              "#d8576b"
             ],
             [
              0.6666666666666666,
              "#ed7953"
             ],
             [
              0.7777777777777778,
              "#fb9f3a"
             ],
             [
              0.8888888888888888,
              "#fdca26"
             ],
             [
              1,
              "#f0f921"
             ]
            ],
            "type": "surface"
           }
          ],
          "table": [
           {
            "cells": {
             "fill": {
              "color": "#EBF0F8"
             },
             "line": {
              "color": "white"
             }
            },
            "header": {
             "fill": {
              "color": "#C8D4E3"
             },
             "line": {
              "color": "white"
             }
            },
            "type": "table"
           }
          ]
         },
         "layout": {
          "annotationdefaults": {
           "arrowcolor": "#2a3f5f",
           "arrowhead": 0,
           "arrowwidth": 1
          },
          "autotypenumbers": "strict",
          "coloraxis": {
           "colorbar": {
            "outlinewidth": 0,
            "ticks": ""
           }
          },
          "colorscale": {
           "diverging": [
            [
             0,
             "#8e0152"
            ],
            [
             0.1,
             "#c51b7d"
            ],
            [
             0.2,
             "#de77ae"
            ],
            [
             0.3,
             "#f1b6da"
            ],
            [
             0.4,
             "#fde0ef"
            ],
            [
             0.5,
             "#f7f7f7"
            ],
            [
             0.6,
             "#e6f5d0"
            ],
            [
             0.7,
             "#b8e186"
            ],
            [
             0.8,
             "#7fbc41"
            ],
            [
             0.9,
             "#4d9221"
            ],
            [
             1,
             "#276419"
            ]
           ],
           "sequential": [
            [
             0,
             "#0d0887"
            ],
            [
             0.1111111111111111,
             "#46039f"
            ],
            [
             0.2222222222222222,
             "#7201a8"
            ],
            [
             0.3333333333333333,
             "#9c179e"
            ],
            [
             0.4444444444444444,
             "#bd3786"
            ],
            [
             0.5555555555555556,
             "#d8576b"
            ],
            [
             0.6666666666666666,
             "#ed7953"
            ],
            [
             0.7777777777777778,
             "#fb9f3a"
            ],
            [
             0.8888888888888888,
             "#fdca26"
            ],
            [
             1,
             "#f0f921"
            ]
           ],
           "sequentialminus": [
            [
             0,
             "#0d0887"
            ],
            [
             0.1111111111111111,
             "#46039f"
            ],
            [
             0.2222222222222222,
             "#7201a8"
            ],
            [
             0.3333333333333333,
             "#9c179e"
            ],
            [
             0.4444444444444444,
             "#bd3786"
            ],
            [
             0.5555555555555556,
             "#d8576b"
            ],
            [
             0.6666666666666666,
             "#ed7953"
            ],
            [
             0.7777777777777778,
             "#fb9f3a"
            ],
            [
             0.8888888888888888,
             "#fdca26"
            ],
            [
             1,
             "#f0f921"
            ]
           ]
          },
          "colorway": [
           "#636efa",
           "#EF553B",
           "#00cc96",
           "#ab63fa",
           "#FFA15A",
           "#19d3f3",
           "#FF6692",
           "#B6E880",
           "#FF97FF",
           "#FECB52"
          ],
          "font": {
           "color": "#2a3f5f"
          },
          "geo": {
           "bgcolor": "white",
           "lakecolor": "white",
           "landcolor": "#E5ECF6",
           "showlakes": true,
           "showland": true,
           "subunitcolor": "white"
          },
          "hoverlabel": {
           "align": "left"
          },
          "hovermode": "closest",
          "mapbox": {
           "style": "light"
          },
          "paper_bgcolor": "white",
          "plot_bgcolor": "#E5ECF6",
          "polar": {
           "angularaxis": {
            "gridcolor": "white",
            "linecolor": "white",
            "ticks": ""
           },
           "bgcolor": "#E5ECF6",
           "radialaxis": {
            "gridcolor": "white",
            "linecolor": "white",
            "ticks": ""
           }
          },
          "scene": {
           "xaxis": {
            "backgroundcolor": "#E5ECF6",
            "gridcolor": "white",
            "gridwidth": 2,
            "linecolor": "white",
            "showbackground": true,
            "ticks": "",
            "zerolinecolor": "white"
           },
           "yaxis": {
            "backgroundcolor": "#E5ECF6",
            "gridcolor": "white",
            "gridwidth": 2,
            "linecolor": "white",
            "showbackground": true,
            "ticks": "",
            "zerolinecolor": "white"
           },
           "zaxis": {
            "backgroundcolor": "#E5ECF6",
            "gridcolor": "white",
            "gridwidth": 2,
            "linecolor": "white",
            "showbackground": true,
            "ticks": "",
            "zerolinecolor": "white"
           }
          },
          "shapedefaults": {
           "line": {
            "color": "#2a3f5f"
           }
          },
          "ternary": {
           "aaxis": {
            "gridcolor": "white",
            "linecolor": "white",
            "ticks": ""
           },
           "baxis": {
            "gridcolor": "white",
            "linecolor": "white",
            "ticks": ""
           },
           "bgcolor": "#E5ECF6",
           "caxis": {
            "gridcolor": "white",
            "linecolor": "white",
            "ticks": ""
           }
          },
          "title": {
           "x": 0.05
          },
          "xaxis": {
           "automargin": true,
           "gridcolor": "white",
           "linecolor": "white",
           "ticks": "",
           "title": {
            "standoff": 15
           },
           "zerolinecolor": "white",
           "zerolinewidth": 2
          },
          "yaxis": {
           "automargin": true,
           "gridcolor": "white",
           "linecolor": "white",
           "ticks": "",
           "title": {
            "standoff": 15
           },
           "zerolinecolor": "white",
           "zerolinewidth": 2
          }
         }
        },
        "title": {
         "text": "Distribution of Trivial Word Lengths"
        },
        "xaxis": {
         "anchor": "y",
         "domain": [
          0,
          1
         ],
         "title": {
          "text": "Word Length"
         }
        },
        "yaxis": {
         "anchor": "x",
         "domain": [
          0,
          1
         ],
         "title": {
          "text": "Frequency"
         }
        }
       }
      }
     },
     "metadata": {},
     "output_type": "display_data"
    },
    {
     "data": {
      "application/vnd.plotly.v1+json": {
       "config": {
        "plotlyServerURL": "https://plot.ly"
       },
       "data": [
        {
         "bingroup": "x",
         "hovertemplate": "Word Length=%{x}<br>count=%{y}<extra></extra>",
         "legendgroup": "",
         "marker": {
          "color": "#636efa",
          "pattern": {
           "shape": ""
          }
         },
         "name": "",
         "nbinsx": 15,
         "orientation": "v",
         "showlegend": false,
         "type": "histogram",
         "x": {
          "bdata": "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",
          "dtype": "i1"
         },
         "xaxis": "x",
         "yaxis": "y"
        }
       ],
       "layout": {
        "bargap": 0.1,
        "barmode": "relative",
        "legend": {
         "tracegroupgap": 0
        },
        "template": {
         "data": {
          "bar": [
           {
            "error_x": {
             "color": "#2a3f5f"
            },
            "error_y": {
             "color": "#2a3f5f"
            },
            "marker": {
             "line": {
              "color": "#E5ECF6",
              "width": 0.5
             },
             "pattern": {
              "fillmode": "overlay",
              "size": 10,
              "solidity": 0.2
             }
            },
            "type": "bar"
           }
          ],
          "barpolar": [
           {
            "marker": {
             "line": {
              "color": "#E5ECF6",
              "width": 0.5
             },
             "pattern": {
              "fillmode": "overlay",
              "size": 10,
              "solidity": 0.2
             }
            },
            "type": "barpolar"
           }
          ],
          "carpet": [
           {
            "aaxis": {
             "endlinecolor": "#2a3f5f",
             "gridcolor": "white",
             "linecolor": "white",
             "minorgridcolor": "white",
             "startlinecolor": "#2a3f5f"
            },
            "baxis": {
             "endlinecolor": "#2a3f5f",
             "gridcolor": "white",
             "linecolor": "white",
             "minorgridcolor": "white",
             "startlinecolor": "#2a3f5f"
            },
            "type": "carpet"
           }
          ],
          "choropleth": [
           {
            "colorbar": {
             "outlinewidth": 0,
             "ticks": ""
            },
            "type": "choropleth"
           }
          ],
          "contour": [
           {
            "colorbar": {
             "outlinewidth": 0,
             "ticks": ""
            },
            "colorscale": [
             [
              0,
              "#0d0887"
             ],
             [
              0.1111111111111111,
              "#46039f"
             ],
             [
              0.2222222222222222,
              "#7201a8"
             ],
             [
              0.3333333333333333,
              "#9c179e"
             ],
             [
              0.4444444444444444,
              "#bd3786"
             ],
             [
              0.5555555555555556,
              "#d8576b"
             ],
             [
              0.6666666666666666,
              "#ed7953"
             ],
             [
              0.7777777777777778,
              "#fb9f3a"
             ],
             [
              0.8888888888888888,
              "#fdca26"
             ],
             [
              1,
              "#f0f921"
             ]
            ],
            "type": "contour"
           }
          ],
          "contourcarpet": [
           {
            "colorbar": {
             "outlinewidth": 0,
             "ticks": ""
            },
            "type": "contourcarpet"
           }
          ],
          "heatmap": [
           {
            "colorbar": {
             "outlinewidth": 0,
             "ticks": ""
            },
            "colorscale": [
             [
              0,
              "#0d0887"
             ],
             [
              0.1111111111111111,
              "#46039f"
             ],
             [
              0.2222222222222222,
              "#7201a8"
             ],
             [
              0.3333333333333333,
              "#9c179e"
             ],
             [
              0.4444444444444444,
              "#bd3786"
             ],
             [
              0.5555555555555556,
              "#d8576b"
             ],
             [
              0.6666666666666666,
              "#ed7953"
             ],
             [
              0.7777777777777778,
              "#fb9f3a"
             ],
             [
              0.8888888888888888,
              "#fdca26"
             ],
             [
              1,
              "#f0f921"
             ]
            ],
            "type": "heatmap"
           }
          ],
          "histogram": [
           {
            "marker": {
             "pattern": {
              "fillmode": "overlay",
              "size": 10,
              "solidity": 0.2
             }
            },
            "type": "histogram"
           }
          ],
          "histogram2d": [
           {
            "colorbar": {
             "outlinewidth": 0,
             "ticks": ""
            },
            "colorscale": [
             [
              0,
              "#0d0887"
             ],
             [
              0.1111111111111111,
              "#46039f"
             ],
             [
              0.2222222222222222,
              "#7201a8"
             ],
             [
              0.3333333333333333,
              "#9c179e"
             ],
             [
              0.4444444444444444,
              "#bd3786"
             ],
             [
              0.5555555555555556,
              "#d8576b"
             ],
             [
              0.6666666666666666,
              "#ed7953"
             ],
             [
              0.7777777777777778,
              "#fb9f3a"
             ],
             [
              0.8888888888888888,
              "#fdca26"
             ],
             [
              1,
              "#f0f921"
             ]
            ],
            "type": "histogram2d"
           }
          ],
          "histogram2dcontour": [
           {
            "colorbar": {
             "outlinewidth": 0,
             "ticks": ""
            },
            "colorscale": [
             [
              0,
              "#0d0887"
             ],
             [
              0.1111111111111111,
              "#46039f"
             ],
             [
              0.2222222222222222,
              "#7201a8"
             ],
             [
              0.3333333333333333,
              "#9c179e"
             ],
             [
              0.4444444444444444,
              "#bd3786"
             ],
             [
              0.5555555555555556,
              "#d8576b"
             ],
             [
              0.6666666666666666,
              "#ed7953"
             ],
             [
              0.7777777777777778,
              "#fb9f3a"
             ],
             [
              0.8888888888888888,
              "#fdca26"
             ],
             [
              1,
              "#f0f921"
             ]
            ],
            "type": "histogram2dcontour"
           }
          ],
          "mesh3d": [
           {
            "colorbar": {
             "outlinewidth": 0,
             "ticks": ""
            },
            "type": "mesh3d"
           }
          ],
          "parcoords": [
           {
            "line": {
             "colorbar": {
              "outlinewidth": 0,
              "ticks": ""
             }
            },
            "type": "parcoords"
           }
          ],
          "pie": [
           {
            "automargin": true,
            "type": "pie"
           }
          ],
          "scatter": [
           {
            "fillpattern": {
             "fillmode": "overlay",
             "size": 10,
             "solidity": 0.2
            },
            "type": "scatter"
           }
          ],
          "scatter3d": [
           {
            "line": {
             "colorbar": {
              "outlinewidth": 0,
              "ticks": ""
             }
            },
            "marker": {
             "colorbar": {
              "outlinewidth": 0,
              "ticks": ""
             }
            },
            "type": "scatter3d"
           }
          ],
          "scattercarpet": [
           {
            "marker": {
             "colorbar": {
              "outlinewidth": 0,
              "ticks": ""
             }
            },
            "type": "scattercarpet"
           }
          ],
          "scattergeo": [
           {
            "marker": {
             "colorbar": {
              "outlinewidth": 0,
              "ticks": ""
             }
            },
            "type": "scattergeo"
           }
          ],
          "scattergl": [
           {
            "marker": {
             "colorbar": {
              "outlinewidth": 0,
              "ticks": ""
             }
            },
            "type": "scattergl"
           }
          ],
          "scattermap": [
           {
            "marker": {
             "colorbar": {
              "outlinewidth": 0,
              "ticks": ""
             }
            },
            "type": "scattermap"
           }
          ],
          "scattermapbox": [
           {
            "marker": {
             "colorbar": {
              "outlinewidth": 0,
              "ticks": ""
             }
            },
            "type": "scattermapbox"
           }
          ],
          "scatterpolar": [
           {
            "marker": {
             "colorbar": {
              "outlinewidth": 0,
              "ticks": ""
             }
            },
            "type": "scatterpolar"
           }
          ],
          "scatterpolargl": [
           {
            "marker": {
             "colorbar": {
              "outlinewidth": 0,
              "ticks": ""
             }
            },
            "type": "scatterpolargl"
           }
          ],
          "scatterternary": [
           {
            "marker": {
             "colorbar": {
              "outlinewidth": 0,
              "ticks": ""
             }
            },
            "type": "scatterternary"
           }
          ],
          "surface": [
           {
            "colorbar": {
             "outlinewidth": 0,
             "ticks": ""
            },
            "colorscale": [
             [
              0,
              "#0d0887"
             ],
             [
              0.1111111111111111,
              "#46039f"
             ],
             [
              0.2222222222222222,
              "#7201a8"
             ],
             [
              0.3333333333333333,
              "#9c179e"
             ],
             [
              0.4444444444444444,
              "#bd3786"
             ],
             [
              0.5555555555555556,
              "#d8576b"
             ],
             [
              0.6666666666666666,
              "#ed7953"
             ],
             [
              0.7777777777777778,
              "#fb9f3a"
             ],
             [
              0.8888888888888888,
              "#fdca26"
             ],
             [
              1,
              "#f0f921"
             ]
            ],
            "type": "surface"
           }
          ],
          "table": [
           {
            "cells": {
             "fill": {
              "color": "#EBF0F8"
             },
             "line": {
              "color": "white"
             }
            },
            "header": {
             "fill": {
              "color": "#C8D4E3"
             },
             "line": {
              "color": "white"
             }
            },
            "type": "table"
           }
          ]
         },
         "layout": {
          "annotationdefaults": {
           "arrowcolor": "#2a3f5f",
           "arrowhead": 0,
           "arrowwidth": 1
          },
          "autotypenumbers": "strict",
          "coloraxis": {
           "colorbar": {
            "outlinewidth": 0,
            "ticks": ""
           }
          },
          "colorscale": {
           "diverging": [
            [
             0,
             "#8e0152"
            ],
            [
             0.1,
             "#c51b7d"
            ],
            [
             0.2,
             "#de77ae"
            ],
            [
             0.3,
             "#f1b6da"
            ],
            [
             0.4,
             "#fde0ef"
            ],
            [
             0.5,
             "#f7f7f7"
            ],
            [
             0.6,
             "#e6f5d0"
            ],
            [
             0.7,
             "#b8e186"
            ],
            [
             0.8,
             "#7fbc41"
            ],
            [
             0.9,
             "#4d9221"
            ],
            [
             1,
             "#276419"
            ]
           ],
           "sequential": [
            [
             0,
             "#0d0887"
            ],
            [
             0.1111111111111111,
             "#46039f"
            ],
            [
             0.2222222222222222,
             "#7201a8"
            ],
            [
             0.3333333333333333,
             "#9c179e"
            ],
            [
             0.4444444444444444,
             "#bd3786"
            ],
            [
             0.5555555555555556,
             "#d8576b"
            ],
            [
             0.6666666666666666,
             "#ed7953"
            ],
            [
             0.7777777777777778,
             "#fb9f3a"
            ],
            [
             0.8888888888888888,
             "#fdca26"
            ],
            [
             1,
             "#f0f921"
            ]
           ],
           "sequentialminus": [
            [
             0,
             "#0d0887"
            ],
            [
             0.1111111111111111,
             "#46039f"
            ],
            [
             0.2222222222222222,
             "#7201a8"
            ],
            [
             0.3333333333333333,
             "#9c179e"
            ],
            [
             0.4444444444444444,
             "#bd3786"
            ],
            [
             0.5555555555555556,
             "#d8576b"
            ],
            [
             0.6666666666666666,
             "#ed7953"
            ],
            [
             0.7777777777777778,
             "#fb9f3a"
            ],
            [
             0.8888888888888888,
             "#fdca26"
            ],
            [
             1,
             "#f0f921"
            ]
           ]
          },
          "colorway": [
           "#636efa",
           "#EF553B",
           "#00cc96",
           "#ab63fa",
           "#FFA15A",
           "#19d3f3",
           "#FF6692",
           "#B6E880",
           "#FF97FF",
           "#FECB52"
          ],
          "font": {
           "color": "#2a3f5f"
          },
          "geo": {
           "bgcolor": "white",
           "lakecolor": "white",
           "landcolor": "#E5ECF6",
           "showlakes": true,
           "showland": true,
           "subunitcolor": "white"
          },
          "hoverlabel": {
           "align": "left"
          },
          "hovermode": "closest",
          "mapbox": {
           "style": "light"
          },
          "paper_bgcolor": "white",
          "plot_bgcolor": "#E5ECF6",
          "polar": {
           "angularaxis": {
            "gridcolor": "white",
            "linecolor": "white",
            "ticks": ""
           },
           "bgcolor": "#E5ECF6",
           "radialaxis": {
            "gridcolor": "white",
            "linecolor": "white",
            "ticks": ""
           }
          },
          "scene": {
           "xaxis": {
            "backgroundcolor": "#E5ECF6",
            "gridcolor": "white",
            "gridwidth": 2,
            "linecolor": "white",
            "showbackground": true,
            "ticks": "",
            "zerolinecolor": "white"
           },
           "yaxis": {
            "backgroundcolor": "#E5ECF6",
            "gridcolor": "white",
            "gridwidth": 2,
            "linecolor": "white",
            "showbackground": true,
            "ticks": "",
            "zerolinecolor": "white"
           },
           "zaxis": {
            "backgroundcolor": "#E5ECF6",
            "gridcolor": "white",
            "gridwidth": 2,
            "linecolor": "white",
            "showbackground": true,
            "ticks": "",
            "zerolinecolor": "white"
           }
          },
          "shapedefaults": {
           "line": {
            "color": "#2a3f5f"
           }
          },
          "ternary": {
           "aaxis": {
            "gridcolor": "white",
            "linecolor": "white",
            "ticks": ""
           },
           "baxis": {
            "gridcolor": "white",
            "linecolor": "white",
            "ticks": ""
           },
           "bgcolor": "#E5ECF6",
           "caxis": {
            "gridcolor": "white",
            "linecolor": "white",
            "ticks": ""
           }
          },
          "title": {
           "x": 0.05
          },
          "xaxis": {
           "automargin": true,
           "gridcolor": "white",
           "linecolor": "white",
           "ticks": "",
           "title": {
            "standoff": 15
           },
           "zerolinecolor": "white",
           "zerolinewidth": 2
          },
          "yaxis": {
           "automargin": true,
           "gridcolor": "white",
           "linecolor": "white",
           "ticks": "",
           "title": {
            "standoff": 15
           },
           "zerolinecolor": "white",
           "zerolinewidth": 2
          }
         }
        },
        "title": {
         "text": "Distribution of Non-Trivial Word Lengths"
        },
        "xaxis": {
         "anchor": "y",
         "domain": [
          0,
          1
         ],
         "title": {
          "text": "Word Length"
         }
        },
        "yaxis": {
         "anchor": "x",
         "domain": [
          0,
          1
         ],
         "title": {
          "text": "Frequency"
         }
        }
       }
      }
     },
     "metadata": {},
     "output_type": "display_data"
    }
   ],
   "source": [
    "plotFrequencies(trivialWords, wordType=\"Trivial\")\n",
    "plotFrequencies(nontrivialWords, wordType=\"Non-Trivial\")"
   ]
  },
  {
   "cell_type": "code",
   "execution_count": null,
   "id": "435c17d6",
   "metadata": {},
   "outputs": [],
   "source": []
  }
 ],
 "metadata": {
  "kernelspec": {
   "display_name": "nlp-project",
   "language": "python",
   "name": "python3"
  },
  "language_info": {
   "codemirror_mode": {
    "name": "ipython",
    "version": 3
   },
   "file_extension": ".py",
   "mimetype": "text/x-python",
   "name": "python",
   "nbconvert_exporter": "python",
   "pygments_lexer": "ipython3",
   "version": "3.12.9"
  }
 },
 "nbformat": 4,
 "nbformat_minor": 5
}
