{
 "cells": [
  {
   "cell_type": "markdown",
   "id": "313cff86",
   "metadata": {},
   "source": [
    "# Example of using the group generation functions"
   ]
  },
  {
   "cell_type": "code",
   "execution_count": 1,
   "id": "d01b4489",
   "metadata": {},
   "outputs": [],
   "source": [
    "#note: must restart kernel if CoxeterArtinGroupGeneration has been updated \n",
    "import numpy as np\n",
    "from CoxeterArtinGroupGeneration import getTimestamp, DataGenerator, loadDataset"
   ]
  },
  {
   "cell_type": "code",
   "execution_count": 3,
   "id": "6f1c3374",
   "metadata": {},
   "outputs": [
    {
     "name": "stdout",
     "output_type": "stream",
     "text": [
      "Unique folder name for dataset: 0 | mode 'coxeter' | range 16 - 16 | pad 16 | size 15,000 | split 30 70\n",
      "Training set size: 4500\n",
      "Testing set size: 10500\n"
     ]
    }
   ],
   "source": [
    "# get timestamp (for job)\n",
    "timestamp = getTimestamp()  #format: YYYY-MM-DD\n",
    "coxeterMatrix = np.array([\n",
    "    [1, 3, 2],\n",
    "    [3, 1, 3],\n",
    "    [2, 3, 1],\n",
    "])\n",
    "\n",
    "\n",
    "# create object for generating data \n",
    "dg = DataGenerator(coxeterMatrix, mode=\"coxeter\", dataDir=\"datasets\", timestamp=timestamp)\n",
    "# define group type (mode)\n",
    "dg.mode = 'coxeter'\n",
    "dg.timestamp = timestamp\n",
    "\n",
    "# define word length, dataset size, splits \n",
    "min_wordLen = 16\n",
    "max_wordLen =  16\n",
    "fixed_wordLen = max_wordLen\n",
    "dg.datasetSize = 15000\n",
    "dg.train_size = 0.3\n",
    "dg.setSizes(min_wordLen, max_wordLen, fixed_wordLen)\n",
    "\n",
    "# generate folder name for dataset using dataset features (updates folderPath)\n",
    "folderName = dg.generateFolderName()\n",
    "print(f\"Unique folder name for dataset: {folderName}\")\n",
    "# define directory path (defined via generation or manually)\n",
    "trainDF, testDF = dg.makeDataset(userDatasetPath=folderName, random_state=1)"
   ]
  },
  {
   "cell_type": "code",
   "execution_count": null,
   "id": "1d96c8e1",
   "metadata": {},
   "outputs": [],
   "source": []
  }
 ],
 "metadata": {
  "kernelspec": {
   "display_name": "Python (CoxeterEnv)",
   "language": "python",
   "name": "coxeterenv"
  },
  "language_info": {
   "codemirror_mode": {
    "name": "ipython",
    "version": 3
   },
   "file_extension": ".py",
   "mimetype": "text/x-python",
   "name": "python",
   "nbconvert_exporter": "python",
   "pygments_lexer": "ipython3",
   "version": "3.11.13"
  }
 },
 "nbformat": 4,
 "nbformat_minor": 5
}
