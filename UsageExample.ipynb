{
 "cells": [
  {
   "cell_type": "markdown",
   "id": "313cff86",
   "metadata": {},
   "source": [
    "# Example of using the group generation functions"
   ]
  },
  {
   "cell_type": "code",
   "execution_count": 1,
   "id": "d01b4489",
   "metadata": {},
   "outputs": [],
   "source": [
    "#note: must restart kernel if CoxeterArtinGroupGeneration has been updated \n",
    "import numpy as np\n",
    "from CoxeterArtinGroupGeneration import makeMeMyData, getTimestamp, loadDataset"
   ]
  },
  {
   "cell_type": "code",
   "execution_count": 5,
   "id": "5de94e63",
   "metadata": {},
   "outputs": [
    {
     "name": "stdout",
     "output_type": "stream",
     "text": [
      "Timestamp: 2025-06-24\n",
      "This is a valid Coxeter matrix.\n",
      "Training set size: 21000\n",
      "Testing set size: 9000\n"
     ]
    }
   ],
   "source": [
    "coxeterMatrix = np.array([\n",
    "    [1, 3, 2, 2],\n",
    "    [3, 1, 3, 2],\n",
    "    [2, 3, 1, 3],\n",
    "    [2, 2, 3, 1]\n",
    "])\n",
    "min_wordLen = 20\n",
    "fixed_wordSize = min_wordLen + 10   #words all of size 50\n",
    "timestamp = getTimestamp()\n",
    "print(f\"Timestamp: {timestamp}\")\n",
    "trainDF, testDF = makeMeMyData(coxeterMatrix, 30000, min_wordLen, fixed_wordSize, timestamp, test_size=\"0.3\", mode='coxeter')\n",
    "# will generate words between 20-25, with a minimum actual word of 20, "
   ]
  },
  {
   "cell_type": "code",
   "execution_count": null,
   "id": "6f1c3374",
   "metadata": {},
   "outputs": [],
   "source": []
  }
 ],
 "metadata": {
  "kernelspec": {
   "display_name": "myEnv",
   "language": "python",
   "name": "python3"
  },
  "language_info": {
   "codemirror_mode": {
    "name": "ipython",
    "version": 3
   },
   "file_extension": ".py",
   "mimetype": "text/x-python",
   "name": "python",
   "nbconvert_exporter": "python",
   "pygments_lexer": "ipython3",
   "version": "3.13.3"
  }
 },
 "nbformat": 4,
 "nbformat_minor": 5
}
