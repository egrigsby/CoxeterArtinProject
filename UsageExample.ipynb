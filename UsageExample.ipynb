{
 "cells": [
  {
   "cell_type": "markdown",
   "id": "313cff86",
   "metadata": {},
   "source": [
    "# Example of using the group generation functions"
   ]
  },
  {
   "cell_type": "code",
   "execution_count": 1,
   "id": "d01b4489",
   "metadata": {},
   "outputs": [],
   "source": [
    "#note: must restart kernel if CoxeterArtinGroupGeneration has been updated \n",
    "import numpy as np\n",
    "from CoxeterArtinGroupGeneration import getTimestamp, DataGenerator, loadDataset, readDataset, plotFrequencies"
   ]
  },
  {
   "cell_type": "code",
   "execution_count": 5,
   "id": "6f1c3374",
   "metadata": {},
   "outputs": [
    {
     "name": "stdout",
     "output_type": "stream",
     "text": [
      "Unique folder name for dataset: 0 | mode 'coxeter' | range 12 - 26 | pad 26 | size 15,000 | split 30 70\n",
      "Training set size: 4500\n",
      "Testing set size: 10500\n"
     ]
    }
   ],
   "source": [
    "# get timestamp (for job)\n",
    "timestamp = getTimestamp()  #format: YYYY-MM-DD\n",
    "coxeterMatrix = np.array([\n",
    "    [1, 3, 2],\n",
    "    [3, 1, 3],\n",
    "    [2, 3, 1],\n",
    "])\n",
    "\n",
    "# create object for generating data \n",
    "dg = DataGenerator(coxeterMatrix, mode=\"coxeter\", dataDir=\"datasets\", timestamp=timestamp)\n",
    "# define group type (mode)\n",
    "dg.mode = 'coxeter'\n",
    "dg.timestamp = timestamp\n",
    "\n",
    "# define word length, dataset size, splits \n",
    "min_wordLen = 12\n",
    "max_wordLen =  26\n",
    "fixed_wordLen = max_wordLen\n",
    "dg.datasetSize = 15000\n",
    "dg.train_size = 0.3\n",
    "dg.setSizes(min_wordLen, max_wordLen, fixed_wordLen)\n",
    "\n",
    "# generate folder name for dataset using dataset features (updates folderPath)\n",
    "folderName = dg.generateFolderName()\n",
    "print(f\"Unique folder name for dataset: {folderName}\")\n",
    "# define directory path (defined via generation or manually)\n",
    "trainDF, testDF = dg.makeDataset(userDatasetPath=folderName, random_state=1)"
   ]
  },
  {
   "cell_type": "markdown",
   "id": "620aa68c",
   "metadata": {},
   "source": [
    "# View Frequencies"
   ]
  },
  {
   "cell_type": "code",
   "execution_count": 6,
   "id": "1d96c8e1",
   "metadata": {},
   "outputs": [],
   "source": [
    "import os\n",
    "trivialWords = readDataset(os.path.join(dg.datasetPath, dg.trivialFile))\n",
    "nontrivialWords = readDataset(os.path.join(dg.datasetPath, dg.nonTrivialFile))"
   ]
  },
  {
   "cell_type": "code",
   "execution_count": 7,
   "id": "9faa04e0",
   "metadata": {},
   "outputs": [
    {
     "data": {
      "application/vnd.plotly.v1+json": {
       "config": {
        "plotlyServerURL": "https://plot.ly"
       },
       "data": [
        {
         "bingroup": "x",
         "hovertemplate": "Word Length=%{x}<br>count=%{y}<extra></extra>",
         "legendgroup": "",
         "marker": {
          "color": "#636efa",
          "pattern": {
           "shape": ""
          }
         },
         "name": "",
         "nbinsx": 20,
         "orientation": "v",
         "showlegend": false,
         "type": "histogram",
         "x": {
          "bdata": "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",
          "dtype": "i1"
         },
         "xaxis": "x",
         "yaxis": "y"
        }
       ],
       "layout": {
        "bargap": 0.1,
        "barmode": "relative",
        "legend": {
         "tracegroupgap": 0
        },
        "template": {
         "data": {
          "bar": [
           {
            "error_x": {
             "color": "#2a3f5f"
            },
            "error_y": {
             "color": "#2a3f5f"
            },
            "marker": {
             "line": {
              "color": "#E5ECF6",
              "width": 0.5
             },
             "pattern": {
              "fillmode": "overlay",
              "size": 10,
              "solidity": 0.2
             }
            },
            "type": "bar"
           }
          ],
          "barpolar": [
           {
            "marker": {
             "line": {
              "color": "#E5ECF6",
              "width": 0.5
             },
             "pattern": {
              "fillmode": "overlay",
              "size": 10,
              "solidity": 0.2
             }
            },
            "type": "barpolar"
           }
          ],
          "carpet": [
           {
            "aaxis": {
             "endlinecolor": "#2a3f5f",
             "gridcolor": "white",
             "linecolor": "white",
             "minorgridcolor": "white",
             "startlinecolor": "#2a3f5f"
            },
            "baxis": {
             "endlinecolor": "#2a3f5f",
             "gridcolor": "white",
             "linecolor": "white",
             "minorgridcolor": "white",
             "startlinecolor": "#2a3f5f"
            },
            "type": "carpet"
           }
          ],
          "choropleth": [
           {
            "colorbar": {
             "outlinewidth": 0,
             "ticks": ""
            },
            "type": "choropleth"
           }
          ],
          "contour": [
           {
            "colorbar": {
             "outlinewidth": 0,
             "ticks": ""
            },
            "colorscale": [
             [
              0,
              "#0d0887"
             ],
             [
              0.1111111111111111,
              "#46039f"
             ],
             [
              0.2222222222222222,
              "#7201a8"
             ],
             [
              0.3333333333333333,
              "#9c179e"
             ],
             [
              0.4444444444444444,
              "#bd3786"
             ],
             [
              0.5555555555555556,
              "#d8576b"
             ],
             [
              0.6666666666666666,
              "#ed7953"
             ],
             [
              0.7777777777777778,
              "#fb9f3a"
             ],
             [
              0.8888888888888888,
              "#fdca26"
             ],
             [
              1,
              "#f0f921"
             ]
            ],
            "type": "contour"
           }
          ],
          "contourcarpet": [
           {
            "colorbar": {
             "outlinewidth": 0,
             "ticks": ""
            },
            "type": "contourcarpet"
           }
          ],
          "heatmap": [
           {
            "colorbar": {
             "outlinewidth": 0,
             "ticks": ""
            },
            "colorscale": [
             [
              0,
              "#0d0887"
             ],
             [
              0.1111111111111111,
              "#46039f"
             ],
             [
              0.2222222222222222,
              "#7201a8"
             ],
             [
              0.3333333333333333,
              "#9c179e"
             ],
             [
              0.4444444444444444,
              "#bd3786"
             ],
             [
              0.5555555555555556,
              "#d8576b"
             ],
             [
              0.6666666666666666,
              "#ed7953"
             ],
             [
              0.7777777777777778,
              "#fb9f3a"
             ],
             [
              0.8888888888888888,
              "#fdca26"
             ],
             [
              1,
              "#f0f921"
             ]
            ],
            "type": "heatmap"
           }
          ],
          "histogram": [
           {
            "marker": {
             "pattern": {
              "fillmode": "overlay",
              "size": 10,
              "solidity": 0.2
             }
            },
            "type": "histogram"
           }
          ],
          "histogram2d": [
           {
            "colorbar": {
             "outlinewidth": 0,
             "ticks": ""
            },
            "colorscale": [
             [
              0,
              "#0d0887"
             ],
             [
              0.1111111111111111,
              "#46039f"
             ],
             [
              0.2222222222222222,
              "#7201a8"
             ],
             [
              0.3333333333333333,
              "#9c179e"
             ],
             [
              0.4444444444444444,
              "#bd3786"
             ],
             [
              0.5555555555555556,
              "#d8576b"
             ],
             [
              0.6666666666666666,
              "#ed7953"
             ],
             [
              0.7777777777777778,
              "#fb9f3a"
             ],
             [
              0.8888888888888888,
              "#fdca26"
             ],
             [
              1,
              "#f0f921"
             ]
            ],
            "type": "histogram2d"
           }
          ],
          "histogram2dcontour": [
           {
            "colorbar": {
             "outlinewidth": 0,
             "ticks": ""
            },
            "colorscale": [
             [
              0,
              "#0d0887"
             ],
             [
              0.1111111111111111,
              "#46039f"
             ],
             [
              0.2222222222222222,
              "#7201a8"
             ],
             [
              0.3333333333333333,
              "#9c179e"
             ],
             [
              0.4444444444444444,
              "#bd3786"
             ],
             [
              0.5555555555555556,
              "#d8576b"
             ],
             [
              0.6666666666666666,
              "#ed7953"
             ],
             [
              0.7777777777777778,
              "#fb9f3a"
             ],
             [
              0.8888888888888888,
              "#fdca26"
             ],
             [
              1,
              "#f0f921"
             ]
            ],
            "type": "histogram2dcontour"
           }
          ],
          "mesh3d": [
           {
            "colorbar": {
             "outlinewidth": 0,
             "ticks": ""
            },
            "type": "mesh3d"
           }
          ],
          "parcoords": [
           {
            "line": {
             "colorbar": {
              "outlinewidth": 0,
              "ticks": ""
             }
            },
            "type": "parcoords"
           }
          ],
          "pie": [
           {
            "automargin": true,
            "type": "pie"
           }
          ],
          "scatter": [
           {
            "fillpattern": {
             "fillmode": "overlay",
             "size": 10,
             "solidity": 0.2
            },
            "type": "scatter"
           }
          ],
          "scatter3d": [
           {
            "line": {
             "colorbar": {
              "outlinewidth": 0,
              "ticks": ""
             }
            },
            "marker": {
             "colorbar": {
              "outlinewidth": 0,
              "ticks": ""
             }
            },
            "type": "scatter3d"
           }
          ],
          "scattercarpet": [
           {
            "marker": {
             "colorbar": {
              "outlinewidth": 0,
              "ticks": ""
             }
            },
            "type": "scattercarpet"
           }
          ],
          "scattergeo": [
           {
            "marker": {
             "colorbar": {
              "outlinewidth": 0,
              "ticks": ""
             }
            },
            "type": "scattergeo"
           }
          ],
          "scattergl": [
           {
            "marker": {
             "colorbar": {
              "outlinewidth": 0,
              "ticks": ""
             }
            },
            "type": "scattergl"
           }
          ],
          "scattermap": [
           {
            "marker": {
             "colorbar": {
              "outlinewidth": 0,
              "ticks": ""
             }
            },
            "type": "scattermap"
           }
          ],
          "scattermapbox": [
           {
            "marker": {
             "colorbar": {
              "outlinewidth": 0,
              "ticks": ""
             }
            },
            "type": "scattermapbox"
           }
          ],
          "scatterpolar": [
           {
            "marker": {
             "colorbar": {
              "outlinewidth": 0,
              "ticks": ""
             }
            },
            "type": "scatterpolar"
           }
          ],
          "scatterpolargl": [
           {
            "marker": {
             "colorbar": {
              "outlinewidth": 0,
              "ticks": ""
             }
            },
            "type": "scatterpolargl"
           }
          ],
          "scatterternary": [
           {
            "marker": {
             "colorbar": {
              "outlinewidth": 0,
              "ticks": ""
             }
            },
            "type": "scatterternary"
           }
          ],
          "surface": [
           {
            "colorbar": {
             "outlinewidth": 0,
             "ticks": ""
            },
            "colorscale": [
             [
              0,
              "#0d0887"
             ],
             [
              0.1111111111111111,
              "#46039f"
             ],
             [
              0.2222222222222222,
              "#7201a8"
             ],
             [
              0.3333333333333333,
              "#9c179e"
             ],
             [
              0.4444444444444444,
              "#bd3786"
             ],
             [
              0.5555555555555556,
              "#d8576b"
             ],
             [
              0.6666666666666666,
              "#ed7953"
             ],
             [
              0.7777777777777778,
              "#fb9f3a"
             ],
             [
              0.8888888888888888,
              "#fdca26"
             ],
             [
              1,
              "#f0f921"
             ]
            ],
            "type": "surface"
           }
          ],
          "table": [
           {
            "cells": {
             "fill": {
              "color": "#EBF0F8"
             },
             "line": {
              "color": "white"
             }
            },
            "header": {
             "fill": {
              "color": "#C8D4E3"
             },
             "line": {
              "color": "white"
             }
            },
            "type": "table"
           }
          ]
         },
         "layout": {
          "annotationdefaults": {
           "arrowcolor": "#2a3f5f",
           "arrowhead": 0,
           "arrowwidth": 1
          },
          "autotypenumbers": "strict",
          "coloraxis": {
           "colorbar": {
            "outlinewidth": 0,
            "ticks": ""
           }
          },
          "colorscale": {
           "diverging": [
            [
             0,
             "#8e0152"
            ],
            [
             0.1,
             "#c51b7d"
            ],
            [
             0.2,
             "#de77ae"
            ],
            [
             0.3,
             "#f1b6da"
            ],
            [
             0.4,
             "#fde0ef"
            ],
            [
             0.5,
             "#f7f7f7"
            ],
            [
             0.6,
             "#e6f5d0"
            ],
            [
             0.7,
             "#b8e186"
            ],
            [
             0.8,
             "#7fbc41"
            ],
            [
             0.9,
             "#4d9221"
            ],
            [
             1,
             "#276419"
            ]
           ],
           "sequential": [
            [
             0,
             "#0d0887"
            ],
            [
             0.1111111111111111,
             "#46039f"
            ],
            [
             0.2222222222222222,
             "#7201a8"
            ],
            [
             0.3333333333333333,
             "#9c179e"
            ],
            [
             0.4444444444444444,
             "#bd3786"
            ],
            [
             0.5555555555555556,
             "#d8576b"
            ],
            [
             0.6666666666666666,
             "#ed7953"
            ],
            [
             0.7777777777777778,
             "#fb9f3a"
            ],
            [
             0.8888888888888888,
             "#fdca26"
            ],
            [
             1,
             "#f0f921"
            ]
           ],
           "sequentialminus": [
            [
             0,
             "#0d0887"
            ],
            [
             0.1111111111111111,
             "#46039f"
            ],
            [
             0.2222222222222222,
             "#7201a8"
            ],
            [
             0.3333333333333333,
             "#9c179e"
            ],
            [
             0.4444444444444444,
             "#bd3786"
            ],
            [
             0.5555555555555556,
             "#d8576b"
            ],
            [
             0.6666666666666666,
             "#ed7953"
            ],
            [
             0.7777777777777778,
             "#fb9f3a"
            ],
            [
             0.8888888888888888,
             "#fdca26"
            ],
            [
             1,
             "#f0f921"
            ]
           ]
          },
          "colorway": [
           "#636efa",
           "#EF553B",
           "#00cc96",
           "#ab63fa",
           "#FFA15A",
           "#19d3f3",
           "#FF6692",
           "#B6E880",
           "#FF97FF",
           "#FECB52"
          ],
          "font": {
           "color": "#2a3f5f"
          },
          "geo": {
           "bgcolor": "white",
           "lakecolor": "white",
           "landcolor": "#E5ECF6",
           "showlakes": true,
           "showland": true,
           "subunitcolor": "white"
          },
          "hoverlabel": {
           "align": "left"
          },
          "hovermode": "closest",
          "mapbox": {
           "style": "light"
          },
          "paper_bgcolor": "white",
          "plot_bgcolor": "#E5ECF6",
          "polar": {
           "angularaxis": {
            "gridcolor": "white",
            "linecolor": "white",
            "ticks": ""
           },
           "bgcolor": "#E5ECF6",
           "radialaxis": {
            "gridcolor": "white",
            "linecolor": "white",
            "ticks": ""
           }
          },
          "scene": {
           "xaxis": {
            "backgroundcolor": "#E5ECF6",
            "gridcolor": "white",
            "gridwidth": 2,
            "linecolor": "white",
            "showbackground": true,
            "ticks": "",
            "zerolinecolor": "white"
           },
           "yaxis": {
            "backgroundcolor": "#E5ECF6",
            "gridcolor": "white",
            "gridwidth": 2,
            "linecolor": "white",
            "showbackground": true,
            "ticks": "",
            "zerolinecolor": "white"
           },
           "zaxis": {
            "backgroundcolor": "#E5ECF6",
            "gridcolor": "white",
            "gridwidth": 2,
            "linecolor": "white",
            "showbackground": true,
            "ticks": "",
            "zerolinecolor": "white"
           }
          },
          "shapedefaults": {
           "line": {
            "color": "#2a3f5f"
           }
          },
          "ternary": {
           "aaxis": {
            "gridcolor": "white",
            "linecolor": "white",
            "ticks": ""
           },
           "baxis": {
            "gridcolor": "white",
            "linecolor": "white",
            "ticks": ""
           },
           "bgcolor": "#E5ECF6",
           "caxis": {
            "gridcolor": "white",
            "linecolor": "white",
            "ticks": ""
           }
          },
          "title": {
           "x": 0.05
          },
          "xaxis": {
           "automargin": true,
           "gridcolor": "white",
           "linecolor": "white",
           "ticks": "",
           "title": {
            "standoff": 15
           },
           "zerolinecolor": "white",
           "zerolinewidth": 2
          },
          "yaxis": {
           "automargin": true,
           "gridcolor": "white",
           "linecolor": "white",
           "ticks": "",
           "title": {
            "standoff": 15
           },
           "zerolinecolor": "white",
           "zerolinewidth": 2
          }
         }
        },
        "title": {
         "text": "Distribution of Trivial Word Lengths"
        },
        "xaxis": {
         "anchor": "y",
         "domain": [
          0,
          1
         ],
         "title": {
          "text": "Word Length"
         }
        },
        "yaxis": {
         "anchor": "x",
         "domain": [
          0,
          1
         ],
         "title": {
          "text": "Frequency"
         }
        }
       }
      }
     },
     "metadata": {},
     "output_type": "display_data"
    },
    {
     "data": {
      "application/vnd.plotly.v1+json": {
       "config": {
        "plotlyServerURL": "https://plot.ly"
       },
       "data": [
        {
         "bingroup": "x",
         "hovertemplate": "Word Length=%{x}<br>count=%{y}<extra></extra>",
         "legendgroup": "",
         "marker": {
          "color": "#636efa",
          "pattern": {
           "shape": ""
          }
         },
         "name": "",
         "nbinsx": 20,
         "orientation": "v",
         "showlegend": false,
         "type": "histogram",
         "x": {
          "bdata": "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",
          "dtype": "i1"
         },
         "xaxis": "x",
         "yaxis": "y"
        }
       ],
       "layout": {
        "bargap": 0.1,
        "barmode": "relative",
        "legend": {
         "tracegroupgap": 0
        },
        "template": {
         "data": {
          "bar": [
           {
            "error_x": {
             "color": "#2a3f5f"
            },
            "error_y": {
             "color": "#2a3f5f"
            },
            "marker": {
             "line": {
              "color": "#E5ECF6",
              "width": 0.5
             },
             "pattern": {
              "fillmode": "overlay",
              "size": 10,
              "solidity": 0.2
             }
            },
            "type": "bar"
           }
          ],
          "barpolar": [
           {
            "marker": {
             "line": {
              "color": "#E5ECF6",
              "width": 0.5
             },
             "pattern": {
              "fillmode": "overlay",
              "size": 10,
              "solidity": 0.2
             }
            },
            "type": "barpolar"
           }
          ],
          "carpet": [
           {
            "aaxis": {
             "endlinecolor": "#2a3f5f",
             "gridcolor": "white",
             "linecolor": "white",
             "minorgridcolor": "white",
             "startlinecolor": "#2a3f5f"
            },
            "baxis": {
             "endlinecolor": "#2a3f5f",
             "gridcolor": "white",
             "linecolor": "white",
             "minorgridcolor": "white",
             "startlinecolor": "#2a3f5f"
            },
            "type": "carpet"
           }
          ],
          "choropleth": [
           {
            "colorbar": {
             "outlinewidth": 0,
             "ticks": ""
            },
            "type": "choropleth"
           }
          ],
          "contour": [
           {
            "colorbar": {
             "outlinewidth": 0,
             "ticks": ""
            },
            "colorscale": [
             [
              0,
              "#0d0887"
             ],
             [
              0.1111111111111111,
              "#46039f"
             ],
             [
              0.2222222222222222,
              "#7201a8"
             ],
             [
              0.3333333333333333,
              "#9c179e"
             ],
             [
              0.4444444444444444,
              "#bd3786"
             ],
             [
              0.5555555555555556,
              "#d8576b"
             ],
             [
              0.6666666666666666,
              "#ed7953"
             ],
             [
              0.7777777777777778,
              "#fb9f3a"
             ],
             [
              0.8888888888888888,
              "#fdca26"
             ],
             [
              1,
              "#f0f921"
             ]
            ],
            "type": "contour"
           }
          ],
          "contourcarpet": [
           {
            "colorbar": {
             "outlinewidth": 0,
             "ticks": ""
            },
            "type": "contourcarpet"
           }
          ],
          "heatmap": [
           {
            "colorbar": {
             "outlinewidth": 0,
             "ticks": ""
            },
            "colorscale": [
             [
              0,
              "#0d0887"
             ],
             [
              0.1111111111111111,
              "#46039f"
             ],
             [
              0.2222222222222222,
              "#7201a8"
             ],
             [
              0.3333333333333333,
              "#9c179e"
             ],
             [
              0.4444444444444444,
              "#bd3786"
             ],
             [
              0.5555555555555556,
              "#d8576b"
             ],
             [
              0.6666666666666666,
              "#ed7953"
             ],
             [
              0.7777777777777778,
              "#fb9f3a"
             ],
             [
              0.8888888888888888,
              "#fdca26"
             ],
             [
              1,
              "#f0f921"
             ]
            ],
            "type": "heatmap"
           }
          ],
          "histogram": [
           {
            "marker": {
             "pattern": {
              "fillmode": "overlay",
              "size": 10,
              "solidity": 0.2
             }
            },
            "type": "histogram"
           }
          ],
          "histogram2d": [
           {
            "colorbar": {
             "outlinewidth": 0,
             "ticks": ""
            },
            "colorscale": [
             [
              0,
              "#0d0887"
             ],
             [
              0.1111111111111111,
              "#46039f"
             ],
             [
              0.2222222222222222,
              "#7201a8"
             ],
             [
              0.3333333333333333,
              "#9c179e"
             ],
             [
              0.4444444444444444,
              "#bd3786"
             ],
             [
              0.5555555555555556,
              "#d8576b"
             ],
             [
              0.6666666666666666,
              "#ed7953"
             ],
             [
              0.7777777777777778,
              "#fb9f3a"
             ],
             [
              0.8888888888888888,
              "#fdca26"
             ],
             [
              1,
              "#f0f921"
             ]
            ],
            "type": "histogram2d"
           }
          ],
          "histogram2dcontour": [
           {
            "colorbar": {
             "outlinewidth": 0,
             "ticks": ""
            },
            "colorscale": [
             [
              0,
              "#0d0887"
             ],
             [
              0.1111111111111111,
              "#46039f"
             ],
             [
              0.2222222222222222,
              "#7201a8"
             ],
             [
              0.3333333333333333,
              "#9c179e"
             ],
             [
              0.4444444444444444,
              "#bd3786"
             ],
             [
              0.5555555555555556,
              "#d8576b"
             ],
             [
              0.6666666666666666,
              "#ed7953"
             ],
             [
              0.7777777777777778,
              "#fb9f3a"
             ],
             [
              0.8888888888888888,
              "#fdca26"
             ],
             [
              1,
              "#f0f921"
             ]
            ],
            "type": "histogram2dcontour"
           }
          ],
          "mesh3d": [
           {
            "colorbar": {
             "outlinewidth": 0,
             "ticks": ""
            },
            "type": "mesh3d"
           }
          ],
          "parcoords": [
           {
            "line": {
             "colorbar": {
              "outlinewidth": 0,
              "ticks": ""
             }
            },
            "type": "parcoords"
           }
          ],
          "pie": [
           {
            "automargin": true,
            "type": "pie"
           }
          ],
          "scatter": [
           {
            "fillpattern": {
             "fillmode": "overlay",
             "size": 10,
             "solidity": 0.2
            },
            "type": "scatter"
           }
          ],
          "scatter3d": [
           {
            "line": {
             "colorbar": {
              "outlinewidth": 0,
              "ticks": ""
             }
            },
            "marker": {
             "colorbar": {
              "outlinewidth": 0,
              "ticks": ""
             }
            },
            "type": "scatter3d"
           }
          ],
          "scattercarpet": [
           {
            "marker": {
             "colorbar": {
              "outlinewidth": 0,
              "ticks": ""
             }
            },
            "type": "scattercarpet"
           }
          ],
          "scattergeo": [
           {
            "marker": {
             "colorbar": {
              "outlinewidth": 0,
              "ticks": ""
             }
            },
            "type": "scattergeo"
           }
          ],
          "scattergl": [
           {
            "marker": {
             "colorbar": {
              "outlinewidth": 0,
              "ticks": ""
             }
            },
            "type": "scattergl"
           }
          ],
          "scattermap": [
           {
            "marker": {
             "colorbar": {
              "outlinewidth": 0,
              "ticks": ""
             }
            },
            "type": "scattermap"
           }
          ],
          "scattermapbox": [
           {
            "marker": {
             "colorbar": {
              "outlinewidth": 0,
              "ticks": ""
             }
            },
            "type": "scattermapbox"
           }
          ],
          "scatterpolar": [
           {
            "marker": {
             "colorbar": {
              "outlinewidth": 0,
              "ticks": ""
             }
            },
            "type": "scatterpolar"
           }
          ],
          "scatterpolargl": [
           {
            "marker": {
             "colorbar": {
              "outlinewidth": 0,
              "ticks": ""
             }
            },
            "type": "scatterpolargl"
           }
          ],
          "scatterternary": [
           {
            "marker": {
             "colorbar": {
              "outlinewidth": 0,
              "ticks": ""
             }
            },
            "type": "scatterternary"
           }
          ],
          "surface": [
           {
            "colorbar": {
             "outlinewidth": 0,
             "ticks": ""
            },
            "colorscale": [
             [
              0,
              "#0d0887"
             ],
             [
              0.1111111111111111,
              "#46039f"
             ],
             [
              0.2222222222222222,
              "#7201a8"
             ],
             [
              0.3333333333333333,
              "#9c179e"
             ],
             [
              0.4444444444444444,
              "#bd3786"
             ],
             [
              0.5555555555555556,
              "#d8576b"
             ],
             [
              0.6666666666666666,
              "#ed7953"
             ],
             [
              0.7777777777777778,
              "#fb9f3a"
             ],
             [
              0.8888888888888888,
              "#fdca26"
             ],
             [
              1,
              "#f0f921"
             ]
            ],
            "type": "surface"
           }
          ],
          "table": [
           {
            "cells": {
             "fill": {
              "color": "#EBF0F8"
             },
             "line": {
              "color": "white"
             }
            },
            "header": {
             "fill": {
              "color": "#C8D4E3"
             },
             "line": {
              "color": "white"
             }
            },
            "type": "table"
           }
          ]
         },
         "layout": {
          "annotationdefaults": {
           "arrowcolor": "#2a3f5f",
           "arrowhead": 0,
           "arrowwidth": 1
          },
          "autotypenumbers": "strict",
          "coloraxis": {
           "colorbar": {
            "outlinewidth": 0,
            "ticks": ""
           }
          },
          "colorscale": {
           "diverging": [
            [
             0,
             "#8e0152"
            ],
            [
             0.1,
             "#c51b7d"
            ],
            [
             0.2,
             "#de77ae"
            ],
            [
             0.3,
             "#f1b6da"
            ],
            [
             0.4,
             "#fde0ef"
            ],
            [
             0.5,
             "#f7f7f7"
            ],
            [
             0.6,
             "#e6f5d0"
            ],
            [
             0.7,
             "#b8e186"
            ],
            [
             0.8,
             "#7fbc41"
            ],
            [
             0.9,
             "#4d9221"
            ],
            [
             1,
             "#276419"
            ]
           ],
           "sequential": [
            [
             0,
             "#0d0887"
            ],
            [
             0.1111111111111111,
             "#46039f"
            ],
            [
             0.2222222222222222,
             "#7201a8"
            ],
            [
             0.3333333333333333,
             "#9c179e"
            ],
            [
             0.4444444444444444,
             "#bd3786"
            ],
            [
             0.5555555555555556,
             "#d8576b"
            ],
            [
             0.6666666666666666,
             "#ed7953"
            ],
            [
             0.7777777777777778,
             "#fb9f3a"
            ],
            [
             0.8888888888888888,
             "#fdca26"
            ],
            [
             1,
             "#f0f921"
            ]
           ],
           "sequentialminus": [
            [
             0,
             "#0d0887"
            ],
            [
             0.1111111111111111,
             "#46039f"
            ],
            [
             0.2222222222222222,
             "#7201a8"
            ],
            [
             0.3333333333333333,
             "#9c179e"
            ],
            [
             0.4444444444444444,
             "#bd3786"
            ],
            [
             0.5555555555555556,
             "#d8576b"
            ],
            [
             0.6666666666666666,
             "#ed7953"
            ],
            [
             0.7777777777777778,
             "#fb9f3a"
            ],
            [
             0.8888888888888888,
             "#fdca26"
            ],
            [
             1,
             "#f0f921"
            ]
           ]
          },
          "colorway": [
           "#636efa",
           "#EF553B",
           "#00cc96",
           "#ab63fa",
           "#FFA15A",
           "#19d3f3",
           "#FF6692",
           "#B6E880",
           "#FF97FF",
           "#FECB52"
          ],
          "font": {
           "color": "#2a3f5f"
          },
          "geo": {
           "bgcolor": "white",
           "lakecolor": "white",
           "landcolor": "#E5ECF6",
           "showlakes": true,
           "showland": true,
           "subunitcolor": "white"
          },
          "hoverlabel": {
           "align": "left"
          },
          "hovermode": "closest",
          "mapbox": {
           "style": "light"
          },
          "paper_bgcolor": "white",
          "plot_bgcolor": "#E5ECF6",
          "polar": {
           "angularaxis": {
            "gridcolor": "white",
            "linecolor": "white",
            "ticks": ""
           },
           "bgcolor": "#E5ECF6",
           "radialaxis": {
            "gridcolor": "white",
            "linecolor": "white",
            "ticks": ""
           }
          },
          "scene": {
           "xaxis": {
            "backgroundcolor": "#E5ECF6",
            "gridcolor": "white",
            "gridwidth": 2,
            "linecolor": "white",
            "showbackground": true,
            "ticks": "",
            "zerolinecolor": "white"
           },
           "yaxis": {
            "backgroundcolor": "#E5ECF6",
            "gridcolor": "white",
            "gridwidth": 2,
            "linecolor": "white",
            "showbackground": true,
            "ticks": "",
            "zerolinecolor": "white"
           },
           "zaxis": {
            "backgroundcolor": "#E5ECF6",
            "gridcolor": "white",
            "gridwidth": 2,
            "linecolor": "white",
            "showbackground": true,
            "ticks": "",
            "zerolinecolor": "white"
           }
          },
          "shapedefaults": {
           "line": {
            "color": "#2a3f5f"
           }
          },
          "ternary": {
           "aaxis": {
            "gridcolor": "white",
            "linecolor": "white",
            "ticks": ""
           },
           "baxis": {
            "gridcolor": "white",
            "linecolor": "white",
            "ticks": ""
           },
           "bgcolor": "#E5ECF6",
           "caxis": {
            "gridcolor": "white",
            "linecolor": "white",
            "ticks": ""
           }
          },
          "title": {
           "x": 0.05
          },
          "xaxis": {
           "automargin": true,
           "gridcolor": "white",
           "linecolor": "white",
           "ticks": "",
           "title": {
            "standoff": 15
           },
           "zerolinecolor": "white",
           "zerolinewidth": 2
          },
          "yaxis": {
           "automargin": true,
           "gridcolor": "white",
           "linecolor": "white",
           "ticks": "",
           "title": {
            "standoff": 15
           },
           "zerolinecolor": "white",
           "zerolinewidth": 2
          }
         }
        },
        "title": {
         "text": "Distribution of Non-Trivial Word Lengths"
        },
        "xaxis": {
         "anchor": "y",
         "domain": [
          0,
          1
         ],
         "title": {
          "text": "Word Length"
         }
        },
        "yaxis": {
         "anchor": "x",
         "domain": [
          0,
          1
         ],
         "title": {
          "text": "Frequency"
         }
        }
       }
      }
     },
     "metadata": {},
     "output_type": "display_data"
    }
   ],
   "source": [
    "plotFrequencies(trivialWords, wordType=\"Trivial\")\n",
    "plotFrequencies(nontrivialWords, wordType=\"Non-Trivial\")"
   ]
  },
  {
   "cell_type": "code",
   "execution_count": null,
   "id": "cd9ee51f",
   "metadata": {},
   "outputs": [],
   "source": []
  }
 ],
 "metadata": {
  "kernelspec": {
   "display_name": "Python (CoxeterEnv)",
   "language": "python",
   "name": "coxeterenv"
  },
  "language_info": {
   "codemirror_mode": {
    "name": "ipython",
    "version": 3
   },
   "file_extension": ".py",
   "mimetype": "text/x-python",
   "name": "python",
   "nbconvert_exporter": "python",
   "pygments_lexer": "ipython3",
   "version": "3.11.13"
  }
 },
 "nbformat": 4,
 "nbformat_minor": 5
}
