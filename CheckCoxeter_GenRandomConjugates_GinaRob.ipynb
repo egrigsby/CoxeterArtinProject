{
 "cells": [
  {
   "cell_type": "code",
   "execution_count": 23,
   "metadata": {
    "executionInfo": {
     "elapsed": 14,
     "status": "ok",
     "timestamp": 1750356922298,
     "user": {
      "displayName": "Robert Vollbrecht",
      "userId": "17531829592871229638"
     },
     "user_tz": 240
    },
    "id": "BBBGGQLoNoD2"
   },
   "outputs": [],
   "source": [
    "#Run this preamble to import some libraries that are available in google colab that are often useful.\n",
    "#Numpy is good for efficiently working with array/vector/matrix data.\n",
    "#Random is good for generating random numbers according to some (discrete or continuous) distribution\n",
    "#Matplotlib is good for plotting\n",
    "#Torch is PyTorch, which is the standard python library for creating and training ML models\n",
    "#You may need to call other libraries for your code\n",
    "\n",
    "import numpy as np\n",
    "import random\n",
    "import matplotlib.pyplot as plt\n",
    "import torch\n",
    "import torch.nn as nn\n",
    "from operator import neg"
   ]
  },
  {
   "cell_type": "markdown",
   "metadata": {},
   "source": [
    "# Subroutine A"
   ]
  },
  {
   "cell_type": "code",
   "execution_count": null,
   "metadata": {},
   "outputs": [],
   "source": [
    "def reduce_coxeter_word(w):\n",
    "  reduced = True\n",
    "  while reduced:\n",
    "    reduced = False\n",
    "    i = 0\n",
    "    while i < len(w) - 1:\n",
    "      if w[i] == w[i+1]:\n",
    "        w = w[:i] + w[i+2:]\n",
    "        i = max(i-1,0)\n",
    "      else:\n",
    "        i += 1\n",
    "  return w\n",
    "\n",
    "def reduce_artin_word(w):\n",
    "  stack = []\n",
    "  for x in w:\n",
    "    if stack and stack[-1] == -x:\n",
    "      stack.pop()\n",
    "    else:\n",
    "      stack.append(x)\n",
    "  return stack\n",
    "\n",
    "\n"
   ]
  },
  {
   "cell_type": "markdown",
   "metadata": {
    "id": "TMWkifHNnI0K"
   },
   "source": [
    "# Coxeter Matrix Check"
   ]
  },
  {
   "cell_type": "markdown",
   "metadata": {
    "id": "vb53s3LH_TmH"
   },
   "source": [
    " Given user input: Rank of Coxeter matrix (= Number of vertices of Coxeter graph = Number of rows, columns of Coxeter matrix) and numpy array encoding rows of Coxeter matrix, output either “This is a valid Coxeter matrix” or “This is not a valid Coxeter matrix. A Coxeter matrix has the following properties: *********”)\n"
   ]
  },
  {
   "cell_type": "code",
   "execution_count": 25,
   "metadata": {
    "executionInfo": {
     "elapsed": 8,
     "status": "ok",
     "timestamp": 1750356922348,
     "user": {
      "displayName": "Robert Vollbrecht",
      "userId": "17531829592871229638"
     },
     "user_tz": 240
    },
    "id": "1BhjxzwE_an9"
   },
   "outputs": [],
   "source": [
    "def is_coxeter_matrix(n, m):\n",
    "\n",
    "    # Converts values to numeric, fails if any non-numeric values\n",
    "    try:\n",
    "        m = m.astype(float)\n",
    "    except ValueError:\n",
    "        print(\"Non-numeric error: Matrix contains non-numeric entries.\")\n",
    "        return\n",
    "\n",
    "\n",
    "    # Checks if input matrix is of size rank x rank\n",
    "    if m.shape != (n, n):\n",
    "        print(f\"Invalid shape: Expected a square matrix of size {n}×{n}, but got {m.shape}.\")\n",
    "        return\n",
    "\n",
    "    # Checks if diagonal entries are 1\n",
    "    if not np.all(np.diag(m) == 1):\n",
    "        print(\"Invalid diagonal: All diagonal entries must be 1 in a Coxeter matrix.\")\n",
    "\n",
    "    # Check if matrix is symmetric (including handling NaN/inf)\n",
    "    if not np.allclose(m, m.T, equal_nan=True):\n",
    "        print(\"Symmetry error: Coxeter matrices must be symmetric across the diagonal.\")\n",
    "        return\n",
    "\n",
    "    # Mask off diagonal ones if they exist\n",
    "    off_diagonal = ~np.eye(n, dtype=bool)\n",
    "    invalid_ones = (m == 1) & off_diagonal\n",
    "\n",
    "    # Checks for off diagonal ones\n",
    "    if np.any(invalid_ones):\n",
    "        print(\"Off-diagonal 1s detected: Only diagonal entries can be 1 in a Coxeter matrix.\")\n",
    "        return\n",
    "\n",
    "    # Mask infinities before checking cast\n",
    "    is_inf = np.isinf(m)\n",
    "    is_pos_int = (m > 0) & ~is_inf & (m == np.floor(m))\n",
    "    valid_entries = is_inf | is_pos_int\n",
    "\n",
    "    # Checks if all values are positive, and if they are an integer or an infinity\n",
    "    if not np.all(valid_entries):\n",
    "        print(\"Entry error: All off-diagonal entries must be integers ≥ 2 or ∞.\")\n",
    "        return\n",
    "\n",
    "    print(\"This is a valid Coxeter matrix.\")\n"
   ]
  },
  {
   "cell_type": "markdown",
   "metadata": {
    "id": "fnw21bUUnTZW"
   },
   "source": [
    "# Subroutine B"
   ]
  },
  {
   "cell_type": "markdown",
   "metadata": {
    "id": "98ISPSpG_Ywl"
   },
   "source": [
    "Subroutine B for generating random conjugates (where conjugating word has varying length between 1 and 10, say) of relators or their inverses, picking a random position in the representative of the trivial group element that’s already been created, and inserting the conjugate at that position\n"
   ]
  },
  {
   "cell_type": "markdown",
   "metadata": {
    "id": "sQdTBYGo50pM"
   },
   "source": [
    "# Coxeter Version of Subroutine B"
   ]
  },
  {
   "cell_type": "code",
   "execution_count": 28,
   "metadata": {
    "executionInfo": {
     "elapsed": 4,
     "status": "ok",
     "timestamp": 1750356922362,
     "user": {
      "displayName": "Robert Vollbrecht",
      "userId": "17531829592871229638"
     },
     "user_tz": 240
    },
    "id": "ouNA1Qvlurfi"
   },
   "outputs": [],
   "source": [
    "from re import sub\n",
    "\n",
    "# Note: If there are only 2 or less generators present in the finite relators of a Coxeter Group the following function won't work\n",
    "##### If there are 2 generators present in the finite relators, the only valid trivial word is alternating between the generators (ie s1s2s1s2s1s2 repeating or s2s1s2s1s2s1 repeating)\n",
    "##### If there is only 1 generator present in the finite relators, abandon the activity as it is impossible to generate visually unreducable trivial words\n",
    "\n",
    "def subroutine_b_cox(t, set_of_generators, set_of_relators):\n",
    "  t = reduce_coxeter_word(t)\n",
    "  size_of_trivial = len(t)\n",
    "  insertion_point = random.randint(0, size_of_trivial)\n",
    "\n",
    "  #letters between insertion point\n",
    "  a = None\n",
    "  b = None\n",
    "  if size_of_trivial > 0:\n",
    "    if insertion_point > 0:\n",
    "        a = t[insertion_point - 1]\n",
    "    if insertion_point < size_of_trivial:\n",
    "        b = t[insertion_point]\n",
    "\n",
    "  ####### randomly generate word w\n",
    "  w_length = random.randint(1,10)\n",
    "  w = []\n",
    "  for i in range(w_length):\n",
    "    w.append(random.choice(set_of_generators))\n",
    "\n",
    "  # reduce w using subroutine A\n",
    "  w = reduce_coxeter_word(w)\n",
    "\n",
    "  if len(w) == 0:\n",
    "    return subroutine_b_cox(t, set_of_generators, set_of_relators)\n",
    "\n",
    "  # calculate w inverse(note its for coxeter group)\n",
    "  w_inv = w[::-1]\n",
    "\n",
    "  # make sure word w does not create visually reducable words\n",
    "  if (a is not None and a == w[0]) or (b is not None and w_inv[-1] == b):\n",
    "    return subroutine_b_cox(t, set_of_generators, set_of_relators)\n",
    "\n",
    "\n",
    "\n",
    "####### pick a relator that is not visually reducable\n",
    "####### Choose a relator that avoids obvious cancellation with w and w_inv\n",
    "  non_squares = [rel for rel in set_of_relators if rel[0] != rel[1]]\n",
    "  candidates = []\n",
    "\n",
    "  for rel in non_squares:\n",
    "      for rel_tuple in [rel, rel[::-1]]:\n",
    "          if w[-1] != rel_tuple[0] and rel_tuple[-1] != w_inv[0]:\n",
    "              candidates.append(rel_tuple)\n",
    "\n",
    "  if not candidates:\n",
    "      return subroutine_b_cox(t, set_of_generators, set_of_relators)\n",
    "\n",
    "  r = random.choice(candidates)\n",
    "\n",
    "  ####### Insert conjugate: w + r + w_inv\n",
    "  conjugate = w + list(r) + w_inv\n",
    "  t[insertion_point:insertion_point] = conjugate\n",
    "  return t\n",
    "\n"
   ]
  },
  {
   "cell_type": "markdown",
   "metadata": {
    "id": "8y18a2FC5wQ4"
   },
   "source": [
    "# Artin Version of Subroutine B"
   ]
  },
  {
   "cell_type": "code",
   "execution_count": null,
   "metadata": {
    "executionInfo": {
     "elapsed": 29,
     "status": "ok",
     "timestamp": 1750356922401,
     "user": {
      "displayName": "Robert Vollbrecht",
      "userId": "17531829592871229638"
     },
     "user_tz": 240
    },
    "id": "xNjN-PD15oe2"
   },
   "outputs": [],
   "source": [
    "# Note: good to run unless only 1 generator. Then, abandon.\n",
    "def subroutine_b_artin(t, set_of_generators, set_of_relators):\n",
    "    t = reduce_artin_word(t)\n",
    "    size_of_trivial = len(t)\n",
    "    insertion_point = random.randint(0, size_of_trivial)\n",
    "\n",
    "    # Get neighbors to avoid cancellation at insertion boundaries\n",
    "    a = t[insertion_point - 1] if insertion_point > 0 else None\n",
    "    b = None\n",
    "    if len(t) > 0:\n",
    "      b = t[insertion_point] if insertion_point < size_of_trivial else None\n",
    "\n",
    "    ####### Generate random reduced word w\n",
    "    w_length = random.randint(1, 10)\n",
    "    w = [random.choice(set_of_generators) for _ in range(w_length)]\n",
    "    w = reduce_artin_word(w)\n",
    "    if not w:\n",
    "        return subroutine_b_artin(t, set_of_generators, set_of_relators)\n",
    "\n",
    "    w_inv = [-g for g in reversed(w)]\n",
    "\n",
    "    # Early check: avoid reduction at boundaries with t\n",
    "    if (a is not None and w and a == -w[0]) or (b is not None and w_inv and w_inv[-1] == -b):\n",
    "        return subroutine_b_artin(t, set_of_generators, set_of_relators)\n",
    "\n",
    "\n",
    "    ####### Choose a non-reducing relator\n",
    "    valid_relators = []\n",
    "    for rel in set_of_relators:\n",
    "        # Skip trivial relators like (g, -g)\n",
    "        if len(rel) == 2 and rel[0] == -rel[1]:\n",
    "            continue\n",
    "        for rel_tuple in [list(rel), [-g for g in reversed(rel)]]:\n",
    "            if w and rel_tuple and w[-1] == -rel_tuple[0]:\n",
    "                continue  # would cancel with end of w\n",
    "            if rel_tuple and w_inv and rel_tuple[-1] == -w_inv[0]:\n",
    "                continue  # would cancel with start of w_inv\n",
    "            rel_reduced = reduce_artin_word(rel_tuple)\n",
    "            if not rel_reduced:\n",
    "              continue\n",
    "            valid_relators.append(rel_tuple)\n",
    "\n",
    "    if not valid_relators:\n",
    "        return subroutine_b_artin(t, set_of_generators, set_of_relators)\n",
    "\n",
    "    r = random.choice(valid_relators)\n",
    "\n",
    "    ####### Form conjugate and insert\n",
    "    conjugate = w + r + w_inv\n",
    "    t[insertion_point:insertion_point] = conjugate\n",
    "    return"
   ]
  }
 ],
 "metadata": {
  "colab": {
   "collapsed_sections": [
    "TMWkifHNnI0K",
    "vKLB2Chjfu4T"
   ],
   "provenance": [
    {
     "file_id": "1SBnT208SsK2Vw8kWBUR3EuOPB2aAy7_c",
     "timestamp": 1750101395827
    },
    {
     "file_id": "1014Ut8DfOnDOnkl--ntZ4MgQL8fcEf6l",
     "timestamp": 1750101219903
    }
   ]
  },
  "kernelspec": {
   "display_name": "Python 3",
   "language": "python",
   "name": "python3"
  },
  "language_info": {
   "codemirror_mode": {
    "name": "ipython",
    "version": 3
   },
   "file_extension": ".py",
   "mimetype": "text/x-python",
   "name": "python",
   "nbconvert_exporter": "python",
   "pygments_lexer": "ipython3",
   "version": "3.10.11"
  }
 },
 "nbformat": 4,
 "nbformat_minor": 0
}
